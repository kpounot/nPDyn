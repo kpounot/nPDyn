{
 "cells": [
  {
   "cell_type": "code",
   "execution_count": 1,
   "metadata": {},
   "outputs": [],
   "source": [
    "import sys\n",
    "    \n",
    "import numpy as np\n",
    "\n",
    "from scipy.optimize import curve_fit\n",
    "\n",
    "try:\n",
    "    import plotly.graph_objects as go\n",
    "    from plotly.subplots import make_subplots\n",
    "    import plotly.io as pio\n",
    "    from plotly.offline import iplot, init_notebook_mode\n",
    "\n",
    "except ModuleNotFoundError or ImportError:\n",
    "    !{sys.executable} -m pip install plotly\n",
    "    \n",
    "    import plotly.graph_objects as go\n",
    "    from plotly.subplots import make_subplots\n",
    "    import plotly.io as pio\n",
    "    from plotly.offline import iplot, init_notebook_mode\n",
    "\n",
    "pio.renderers.default = 'notebook'\n",
    "pio.templates.default = \"seaborn\"\n",
    "\n",
    "import ipywidgets as widgets\n",
    "\n",
    "try:\n",
    "    import nPDyn\n",
    "    from nPDyn.models.Model import Model\n",
    "    from nPDyn.models.Presets import (lorentzian, gaussian, delta, conv_delta, \n",
    "                                      conv_lorentzian_gaussian, conv_lorentzian_lorentzian)\n",
    "except ModuleNotFoundError or ImportError:\n",
    "    !{sys.executable} -m pip install git+https://github.com/kpounot/nPDyn@dev#egg=nPDyn\n",
    "\n",
    "    import nPDyn\n",
    "    from nPDyn.models.Model import Model\n",
    "    from nPDyn.models.Presets import (lorentzian, gaussian, delta, conv_delta, \n",
    "                                      conv_lorentzian_gaussian, conv_lorentzian_lorentzian)"
   ]
  },
  {
   "cell_type": "markdown",
   "metadata": {},
   "source": [
    "## Import some data"
   ]
  },
  {
   "cell_type": "code",
   "execution_count": 2,
   "metadata": {},
   "outputs": [],
   "source": [
    "data = nPDyn.Dataset()\n",
    "\n",
    "data.importRawData('../../package/tests/sample_data/vanadium/', 'IN16B', 'QENS')\n",
    "\n",
    "data.binAll(5)"
   ]
  },
  {
   "cell_type": "markdown",
   "metadata": {},
   "source": [
    "## Using all q-values for the model (here, a pseudo-Voigt profile)"
   ]
  },
  {
   "cell_type": "code",
   "execution_count": 3,
   "metadata": {},
   "outputs": [
    {
     "data": {
      "text/plain": [
       "array([[0.00101895, 0.00101933, 0.00101973, ..., 0.00102014, 0.00101973,\n",
       "        0.00101933],\n",
       "       [0.00101895, 0.00101933, 0.00101973, ..., 0.00102014, 0.00101973,\n",
       "        0.00101933],\n",
       "       [0.00101895, 0.00101933, 0.00101973, ..., 0.00102014, 0.00101973,\n",
       "        0.00101933],\n",
       "       ...,\n",
       "       [0.00101895, 0.00101933, 0.00101973, ..., 0.00102014, 0.00101973,\n",
       "        0.00101933],\n",
       "       [0.00101895, 0.00101933, 0.00101973, ..., 0.00102014, 0.00101973,\n",
       "        0.00101933],\n",
       "       [0.00101895, 0.00101933, 0.00101973, ..., 0.00102014, 0.00101973,\n",
       "        0.00101933]])"
      ]
     },
     "execution_count": 3,
     "metadata": {},
     "output_type": "execute_result"
    }
   ],
   "source": [
    "X = data.datasetList[0].data.energies\n",
    "\n",
    "qVals = data.datasetList[0].data.qVals\n",
    "\n",
    "params = {'scale': np.zeros((qVals.size, 1)) + 1, \n",
    "          'a':np.zeros((qVals.size, 1)) + 0.8, \n",
    "          'gauWidth': np.zeros((qVals.size, 1)) + 0.3, \n",
    "          'lorWidth': np.zeros((qVals.size, 1)) + 0.25, \n",
    "          'shift': np.zeros((qVals.size, 1)) + 0.0, \n",
    "          'bkgd': np.zeros((qVals.size, 1)) + 0.001}\n",
    "\n",
    "m = Model(params=params, xVar=X)\n",
    "\n",
    "m.eisfComponents['Lorentzian'] = (lorentzian, lambda p: [p['scale'] * (1 - p['a']), p['lorWidth'], p['shift']])\n",
    "m.eisfComponents['Gaussian'] = (gaussian, lambda p: [p['scale'] * p['a'], p['gauWidth'], p['shift']])\n",
    "m.bkgdComponents['bkgd'] = (lambda x, bkgd: np.zeros_like(x) + bkgd, lambda p: [p['bkgd']])\n",
    "\n",
    "m.getModel()\n"
   ]
  },
  {
   "cell_type": "code",
   "execution_count": 4,
   "metadata": {
    "scrolled": false
   },
   "outputs": [
    {
     "data": {
      "application/vnd.jupyter.widget-view+json": {
       "model_id": "9ce408211ea247f6a5ce91c37db85f37",
       "version_major": 2,
       "version_minor": 0
      },
      "text/plain": [
       "VBox(children=(SelectionSlider(description='q-value', options=(0.19, 0.29, 0.44, 0.57, 0.7, 0.82, 0.95, 1.06, …"
      ]
     },
     "metadata": {},
     "output_type": "display_data"
    }
   ],
   "source": [
    "qSel = widgets.SelectionSlider(\n",
    "    options=qVals.round(2),\n",
    "    value=qVals.round(2)[0],\n",
    "    description='q-value',\n",
    "    continuous_update=True,\n",
    ")\n",
    "\n",
    "\n",
    "fig = go.FigureWidget(layout=go.Layout(xaxis=dict(title='$\\\\rm \\hbar\\omega~ [\\mu eV]$'),\n",
    "                                 yaxis=dict(title='$\\\\rm S(q,\\omega)$', type='log')))\n",
    "\n",
    "qIdx = np.argmin((data.datasetList[0].data.qVals - qSel.value)**2)\n",
    "\n",
    "fig.add_trace(go.Scatter(x=data.datasetList[0].data.energies, \n",
    "                         y=data.datasetList[0].data.intensities[0, qIdx], \n",
    "                         error_y=dict(type='data', array=data.datasetList[0].data.errors[0, qIdx]),\n",
    "                         mode='markers', name=\"exp\"))\n",
    "fig.add_trace(go.Scatter(x=X, y=m.getModel()[qIdx], name=\"model\"))\n",
    "\n",
    "\n",
    "def update(val):\n",
    "    qIdx = np.argmin((data.datasetList[0].data.qVals - qSel.value)**2)\n",
    "\n",
    "    with fig.batch_update():\n",
    "        fig.data[1].y = m.getModel()[qIdx]\n",
    "        fig.data[0].y = data.datasetList[0].data.intensities[0, qIdx]\n",
    "        fig.data[0].error_y = dict(type='data', array=data.datasetList[0].data.errors[0, qIdx])\n",
    "    \n",
    "              \n",
    "qSel.observe(update, 'value')\n",
    "              \n",
    "widgets.VBox([qSel, fig])"
   ]
  },
  {
   "cell_type": "markdown",
   "metadata": {},
   "source": [
    "## Fitting the data and updating the parameters"
   ]
  },
  {
   "cell_type": "code",
   "execution_count": 5,
   "metadata": {
    "scrolled": false
   },
   "outputs": [],
   "source": [
    "pList = m._paramsToList()\n",
    "\n",
    "popt, perr = curve_fit(lambda x, *p: m.getModel(x, params=p).flatten(), \n",
    "                       np.zeros_like(m.getModel()) + X, \n",
    "                       data.datasetList[0].data.intensities.flatten(),\n",
    "                       p0=pList,\n",
    "                       sigma=data.datasetList[0].data.errors.flatten(),\n",
    "                       bounds=(-2., 10),\n",
    "                       method='trf')"
   ]
  },
  {
   "cell_type": "code",
   "execution_count": 6,
   "metadata": {},
   "outputs": [],
   "source": [
    "m.params = m._listToParams(popt)"
   ]
  },
  {
   "cell_type": "markdown",
   "metadata": {},
   "source": [
    "## Plotting the optimized model"
   ]
  },
  {
   "cell_type": "code",
   "execution_count": 7,
   "metadata": {
    "scrolled": false
   },
   "outputs": [
    {
     "data": {
      "application/vnd.jupyter.widget-view+json": {
       "model_id": "44c529f349324d85be830cde42a936da",
       "version_major": 2,
       "version_minor": 0
      },
      "text/plain": [
       "VBox(children=(SelectionSlider(description='q-value', options=(0.19, 0.29, 0.44, 0.57, 0.7, 0.82, 0.95, 1.06, …"
      ]
     },
     "metadata": {},
     "output_type": "display_data"
    }
   ],
   "source": [
    "qSel = widgets.SelectionSlider(\n",
    "    options=qVals.round(2),\n",
    "    value=qVals.round(2)[0],\n",
    "    description='q-value',\n",
    "    continuous_update=True,\n",
    ")\n",
    "\n",
    "\n",
    "fig = go.FigureWidget(layout=go.Layout(xaxis=dict(title='$\\\\rm \\hbar\\omega~ [\\mu eV]$'),\n",
    "                                 yaxis=dict(title='$\\\\rm S(q,\\omega)$', type='log', range=[-5, -0.8])))\n",
    "\n",
    "qIdx = np.argmin((data.datasetList[0].data.qVals - qSel.value)**2)\n",
    "\n",
    "fig.add_trace(go.Scatter(x=data.datasetList[0].data.energies, \n",
    "                         y=data.datasetList[0].data.intensities[0, qIdx], \n",
    "                         error_y=dict(type='data', array=data.datasetList[0].data.errors[0, qIdx]),\n",
    "                         mode='markers', name=\"exp\"))\n",
    "\n",
    "fig.add_trace(go.Scatter(x=X, y=m.getModel()[qIdx], name=\"model\"))\n",
    "\n",
    "names, lines = m.getComponents(compType='all')\n",
    "\n",
    "for line, name in zip(lines, names): \n",
    "    fig.add_trace(go.Scatter(x=X, y=line[qIdx], name=name, line=dict(dash='dot')))\n",
    "\n",
    "def update(val):\n",
    "    qIdx = np.argmin((data.datasetList[0].data.qVals - qSel.value)**2)\n",
    "    \n",
    "    with fig.batch_update():\n",
    "        fig.data[1].y = m.getModel()[qIdx]\n",
    "        fig.data[0].y = data.datasetList[0].data.intensities[0, qIdx]\n",
    "        fig.data[0].error_y = dict(type='data', array=data.datasetList[0].data.errors[0, qIdx])\n",
    "            \n",
    "        idx=2\n",
    "        for line, name in zip(lines, names): \n",
    "            fig.data[idx].y = line[qIdx] \n",
    "            fig.data[idx].name = name\n",
    "            idx += 1\n",
    "\n",
    "    \n",
    "              \n",
    "qSel.observe(update, 'value')\n",
    "              \n",
    "widgets.VBox([qSel, fig])"
   ]
  },
  {
   "cell_type": "code",
   "execution_count": null,
   "metadata": {},
   "outputs": [],
   "source": []
  }
 ],
 "metadata": {
  "kernelspec": {
   "display_name": "Python 3",
   "language": "python",
   "name": "python3"
  },
  "language_info": {
   "codemirror_mode": {
    "name": "ipython",
    "version": 3
   },
   "file_extension": ".py",
   "mimetype": "text/x-python",
   "name": "python",
   "nbconvert_exporter": "python",
   "pygments_lexer": "ipython3",
   "version": "3.6.9"
  }
 },
 "nbformat": 4,
 "nbformat_minor": 4
}
