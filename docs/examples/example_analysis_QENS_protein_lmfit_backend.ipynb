{
 "cells": [
  {
   "cell_type": "markdown",
   "metadata": {},
   "source": [
    "# Analysis of quasi-elastic neutron scattering (QENS) measurement of a protein in liquid state\n",
    "\n",
    "This file contains the code of the nPDyn documentation available here: https://npdyn.readthedocs.io/en/latest/."
   ]
  },
  {
   "cell_type": "code",
   "execution_count": 1,
   "metadata": {},
   "outputs": [],
   "source": [
    "import numpy as np\n",
    "\n",
    "from nPDyn import Dataset\n",
    "\n",
    "\n",
    "%matplotlib inline\n",
    "import matplotlib.pyplot as plt\n"
   ]
  },
  {
   "cell_type": "code",
   "execution_count": 2,
   "metadata": {},
   "outputs": [],
   "source": [
    "qens = Dataset(\n",
    "    QENSFiles=['sample_data/lys_part_01_QENS_before_280K.nxs'],\n",
    "    resFiles=['sample_data/vana_QENS_280K.nxs'],\n",
    "    ECFile='sample_data/empty_cell_QENS_280K.nxs',\n",
    "    D2OFile='sample_data/D2O_QENS_280K.nxs')"
   ]
  },
  {
   "cell_type": "markdown",
   "metadata": {},
   "source": [
    "## Process the data"
   ]
  },
  {
   "cell_type": "code",
   "execution_count": 3,
   "metadata": {},
   "outputs": [],
   "source": [
    "qens.binAll(5)\n",
    "qens.subtract_EC()\n",
    "qens.setQRange(0.4, 1.8)\n",
    "q = qens.dataList[0].data.qVals[:, np.newaxis]\n",
    "X = qens.dataList[0].data.energies"
   ]
  },
  {
   "cell_type": "markdown",
   "metadata": {},
   "source": [
    "## Fit the resolution and D2O background"
   ]
  },
  {
   "cell_type": "code",
   "execution_count": 4,
   "metadata": {
    "scrolled": true
   },
   "outputs": [
    {
     "name": "stdout",
     "output_type": "stream",
     "text": [
      "Fitting dataset: sample_data/vana_QENS_280K.nxs\n",
      "\tFit of observable 1 of 1 (time=0.0)\r"
     ]
    },
    {
     "name": "stderr",
     "output_type": "stream",
     "text": [
      "/home/kpounot/.local/lib/python3.6/site-packages/nPDyn-2.0+0.g9f9576f.dirty-py3.6-linux-x86_64.egg/nPDyn/dataTypes/baseType.py:673: RuntimeWarning: divide by zero encountered in true_divide\n",
      "  errors = 1 / errors\n"
     ]
    },
    {
     "name": "stdout",
     "output_type": "stream",
     "text": [
      "\n",
      "Done.\n",
      "\n",
      "Fitting dataset: sample_data/D2O_QENS_280K.nxs\n",
      "\tFit of observable 1 of 1 (time=0.0)\n",
      "Done.\n",
      "\n"
     ]
    }
   ],
   "source": [
    "from nPDyn.lmfit.lmfit_presets import pseudo_voigt, calibratedD2O\n",
    "\n",
    "qens.fitRes(model=pseudo_voigt(q, prefix='res_'), cleanData='omit')\n",
    "qens.D2OData.fit(model=calibratedD2O(q, 0.95, 280, prefix='D2O_'), cleanData='omit')"
   ]
  },
  {
   "cell_type": "markdown",
   "metadata": {},
   "source": [
    "## Build the model"
   ]
  },
  {
   "cell_type": "code",
   "execution_count": 5,
   "metadata": {},
   "outputs": [],
   "source": [
    "from nPDyn.lmfit.lmfit_presets import build_2D_model\n",
    "\n",
    "# let us start with the formatted text for the center-of-mass term.\n",
    "comText = (\"{beta} * {alpha} * {Ds} * {q}**2 / (np.pi * \"\n",
    "           \"(x**2 + ({Ds} * {q}**2)**2))\")\n",
    "\n",
    "# same for the internal dynamics term\n",
    "jumpDiffText = (\"{beta} * (1 - {alpha}) * \"\n",
    "                \"({Di} * {q}**2 / (1 + {Di} * {q}**2 * {tau})) / \"\n",
    "                \"(np.pi * (x**2 + ({Di} * {q}**2 / \"\n",
    "                \"(1 + {Di} * {q}**2 * {tau}))**2))\")\n",
    "\n",
    "# now we build the components\n",
    "comModel = build_2D_model(\n",
    "    q,\n",
    "    'com',\n",
    "    comText,\n",
    "    paramGlobals=['alpha', 'Ds'],\n",
    "    bounds={\n",
    "        'beta': (0., np.inf),\n",
    "        'alpha': (0, 1),\n",
    "        'Ds': (0.001, np.inf)},  # non-zero minimum to avoid infinite values\n",
    "    defVals={'alpha': 0.5,\n",
    "             'Ds': 5,\n",
    "             'beta': 1},\n",
    "    prefix='com_')\n",
    "\n",
    "jumpDiffModel = build_2D_model(\n",
    "    q,\n",
    "    'jumpDiff',\n",
    "    jumpDiffText,\n",
    "    paramGlobals=['alpha', 'Di', 'tau'],\n",
    "    bounds={\n",
    "        'beta': (0., np.inf),\n",
    "        'alpha': (0, 1),\n",
    "        'Di': (0.001, np.inf),  # non-zero minimum to avoid infinite values\n",
    "        'tau': (0., np.inf)},\n",
    "    defVals={'beta': 1,\n",
    "             'alpha': 0.5,\n",
    "             'Di': 30,\n",
    "             'tau': 10},\n",
    "    prefix='jd_')\n",
    "\n",
    "# and we assemble them\n",
    "model = comModel + jumpDiffModel\n",
    "\n",
    "# some parameters are the same for the two components, so we set them equals using 'expr' hint\n",
    "model.set_param_hint('com_alpha', expr='jd_alpha')\n",
    "for i in range(q.size):\n",
    "    model.set_param_hint('com_beta_%i' % i, expr='jd_beta_%i' % i)"
   ]
  },
  {
   "cell_type": "code",
   "execution_count": 6,
   "metadata": {},
   "outputs": [],
   "source": [
    "# now we add the component for the D2O signal\n",
    "from nPDyn.lmfit.lmfit_presets import hline\n",
    "\n",
    "scale = hline(q, prefix='bD2O_', bounds={'b': (0.0001, np.inf)})\n",
    "d2OModel = scale * qens.D2OData.model\n",
    "d2OModel.param_hints.update(qens.D2OData.getFixedOptParams(0))\n",
    "\n",
    "fitModel = model + d2OModel"
   ]
  },
  {
   "cell_type": "markdown",
   "metadata": {},
   "source": [
    "## Fit the data"
   ]
  },
  {
   "cell_type": "code",
   "execution_count": 7,
   "metadata": {},
   "outputs": [
    {
     "name": "stdout",
     "output_type": "stream",
     "text": [
      "Fitting dataset: sample_data/lys_part_01_QENS_before_280K.nxs\n",
      "\tFit of observable 1 of 1 (time=0.0)\r"
     ]
    },
    {
     "name": "stderr",
     "output_type": "stream",
     "text": [
      "/home/kpounot/.local/lib/python3.6/site-packages/nPDyn-2.0+0.g9f9576f.dirty-py3.6-linux-x86_64.egg/nPDyn/lmfit/lmfit_presets.py:3: RuntimeWarning: invalid value encountered in true_divide\n",
      "  \n",
      "/home/kpounot/.local/lib/python3.6/site-packages/nPDyn-2.0+0.g9f9576f.dirty-py3.6-linux-x86_64.egg/nPDyn/lmfit/lmfit_presets.py:4: RuntimeWarning: invalid value encountered in true_divide\n",
      "  These functions generate a `Model` class instance from\n",
      "/home/kpounot/.local/lib/python3.6/site-packages/nPDyn-2.0+0.g9f9576f.dirty-py3.6-linux-x86_64.egg/nPDyn/lmfit/lmfit_presets.py:5: RuntimeWarning: invalid value encountered in true_divide\n",
      "  the **lmfit** package [#]_.\n",
      "/home/kpounot/.local/lib/python3.6/site-packages/nPDyn-2.0+0.g9f9576f.dirty-py3.6-linux-x86_64.egg/nPDyn/lmfit/lmfit_presets.py:6: RuntimeWarning: invalid value encountered in true_divide\n",
      "  \n",
      "/home/kpounot/.local/lib/python3.6/site-packages/nPDyn-2.0+0.g9f9576f.dirty-py3.6-linux-x86_64.egg/nPDyn/lmfit/lmfit_presets.py:7: RuntimeWarning: invalid value encountered in true_divide\n",
      "  \n",
      "/home/kpounot/.local/lib/python3.6/site-packages/nPDyn-2.0+0.g9f9576f.dirty-py3.6-linux-x86_64.egg/nPDyn/lmfit/lmfit_presets.py:8: RuntimeWarning: invalid value encountered in true_divide\n",
      "  References\n",
      "/home/kpounot/.local/lib/python3.6/site-packages/nPDyn-2.0+0.g9f9576f.dirty-py3.6-linux-x86_64.egg/nPDyn/lmfit/lmfit_presets.py:9: RuntimeWarning: invalid value encountered in true_divide\n",
      "  ----------\n",
      "/home/kpounot/.local/lib/python3.6/site-packages/nPDyn-2.0+0.g9f9576f.dirty-py3.6-linux-x86_64.egg/nPDyn/lmfit/lmfit_presets.py:10: RuntimeWarning: invalid value encountered in true_divide\n",
      "  \n",
      "/home/kpounot/.local/lib/python3.6/site-packages/nPDyn-2.0+0.g9f9576f.dirty-py3.6-linux-x86_64.egg/nPDyn/lmfit/lmfit_presets.py:11: RuntimeWarning: invalid value encountered in true_divide\n",
      "  .. [#] https://lmfit.github.io/lmfit-py/\n",
      "/home/kpounot/.local/lib/python3.6/site-packages/nPDyn-2.0+0.g9f9576f.dirty-py3.6-linux-x86_64.egg/nPDyn/lmfit/lmfit_presets.py:12: RuntimeWarning: invalid value encountered in true_divide\n",
      "  \n",
      "/home/kpounot/.local/lib/python3.6/site-packages/nPDyn-2.0+0.g9f9576f.dirty-py3.6-linux-x86_64.egg/nPDyn/lmfit/lmfit_presets.py:13: RuntimeWarning: invalid value encountered in true_divide\n",
      "  \"\"\"\n",
      "/home/kpounot/.local/lib/python3.6/site-packages/nPDyn-2.0+0.g9f9576f.dirty-py3.6-linux-x86_64.egg/nPDyn/lmfit/lmfit_presets.py:14: RuntimeWarning: invalid value encountered in true_divide\n",
      "  \n",
      "/home/kpounot/.local/lib/python3.6/site-packages/nPDyn-2.0+0.g9f9576f.dirty-py3.6-linux-x86_64.egg/nPDyn/lmfit/lmfit_presets.py:15: RuntimeWarning: invalid value encountered in true_divide\n",
      "  from types import FunctionType, CodeType\n",
      "/home/kpounot/.local/lib/python3.6/site-packages/nPDyn-2.0+0.g9f9576f.dirty-py3.6-linux-x86_64.egg/nPDyn/lmfit/lmfit_presets.py:16: RuntimeWarning: invalid value encountered in true_divide\n",
      "  \n"
     ]
    },
    {
     "name": "stdout",
     "output_type": "stream",
     "text": [
      "\n",
      "Done.\n",
      "\n"
     ]
    }
   ],
   "source": [
    "qens.fitData(model=fitModel, q=q, convolveRes=True, cleanData='omit')"
   ]
  },
  {
   "cell_type": "code",
   "execution_count": 8,
   "metadata": {},
   "outputs": [
    {
     "name": "stderr",
     "output_type": "stream",
     "text": [
      "/home/kpounot/.local/lib/python3.6/site-packages/nPDyn-2.0+0.g9f9576f.dirty-py3.6-linux-x86_64.egg/nPDyn/plot/qensPlot.py:213: UserWarning: Tight layout not applied. The left and right margins cannot be made large enough to accommodate all axes decorations. \n",
      "  self.canvas.draw()\n",
      "/home/kpounot/.local/lib/python3.6/site-packages/nPDyn-2.0+0.g9f9576f.dirty-py3.6-linux-x86_64.egg/nPDyn/plot/qensPlot.py:213: UserWarning: Tight layout not applied. The left and right margins cannot be made large enough to accommodate all axes decorations. \n",
      "  self.canvas.draw()\n",
      "/home/kpounot/.local/lib/python3.6/site-packages/nPDyn-2.0+0.g9f9576f.dirty-py3.6-linux-x86_64.egg/nPDyn/plot/qensPlot.py:334: UserWarning: Tight layout not applied. tight_layout cannot make axes width small enough to accommodate all axes decorations\n",
      "  self.canvas.draw()\n",
      "/home/kpounot/.local/lib/python3.6/site-packages/nPDyn-2.0+0.g9f9576f.dirty-py3.6-linux-x86_64.egg/nPDyn/plot/create_window.py:27: UserWarning: Tight layout not applied. tight_layout cannot make axes width small enough to accommodate all axes decorations\n",
      "  app.exec_()\n"
     ]
    }
   ],
   "source": [
    "qens.plotQENS()"
   ]
  },
  {
   "cell_type": "code",
   "execution_count": null,
   "metadata": {},
   "outputs": [],
   "source": []
  }
 ],
 "metadata": {
  "kernelspec": {
   "display_name": "Python 3",
   "language": "python",
   "name": "python3"
  },
  "language_info": {
   "codemirror_mode": {
    "name": "ipython",
    "version": 3
   },
   "file_extension": ".py",
   "mimetype": "text/x-python",
   "name": "python",
   "nbconvert_exporter": "python",
   "pygments_lexer": "ipython3",
   "version": "3.6.9"
  }
 },
 "nbformat": 4,
 "nbformat_minor": 4
}
