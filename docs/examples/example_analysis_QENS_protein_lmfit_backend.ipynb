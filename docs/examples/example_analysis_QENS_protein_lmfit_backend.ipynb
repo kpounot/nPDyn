{
 "cells": [
  {
   "cell_type": "markdown",
   "metadata": {},
   "source": [
    "# Analysis of quasi-elastic neutron scattering (QENS) measurement of a protein in liquid state\n",
    "\n",
    "This file contains the code of the nPDyn documentation available here: ."
   ]
  },
  {
   "cell_type": "code",
   "execution_count": 1,
   "metadata": {},
   "outputs": [],
   "source": [
    "import numpy as np\n",
    "\n",
    "from nPDyn import Dataset\n",
    "\n",
    "\n",
    "%matplotlib inline\n",
    "import matplotlib.pyplot as plt\n"
   ]
  },
  {
   "cell_type": "code",
   "execution_count": 11,
   "metadata": {},
   "outputs": [],
   "source": [
    "qens = Dataset(\n",
    "    QENSFiles=['sample_data/lys_part_01_QENS_before_280K.nxs'],\n",
    "    resFiles=['sample_data/vana_QENS_280K.nxs'],\n",
    "    ECFile='sample_data/empty_cell_QENS_280K.nxs',\n",
    "    D2OFile='sample_data/D2O_QENS_280K.nxs')"
   ]
  },
  {
   "cell_type": "markdown",
   "metadata": {},
   "source": [
    "## Process the data"
   ]
  },
  {
   "cell_type": "code",
   "execution_count": 12,
   "metadata": {},
   "outputs": [],
   "source": [
    "qens.binAll(5)\n",
    "qens.subtract_EC()\n",
    "qens.setQRange(0.4, 1.8)\n",
    "q = qens.dataList[0].data.qVals[:, np.newaxis]\n",
    "X = qens.dataList[0].data.energies"
   ]
  },
  {
   "cell_type": "markdown",
   "metadata": {},
   "source": [
    "## Fit the resolution and D2O background"
   ]
  },
  {
   "cell_type": "code",
   "execution_count": 13,
   "metadata": {
    "scrolled": true
   },
   "outputs": [
    {
     "name": "stdout",
     "output_type": "stream",
     "text": [
      "Fitting dataset: sample_data/vana_QENS_280K.nxs\n",
      "\tFit of observable 1 of 1 (time=0.0)\n",
      "Done.\n",
      "\n",
      "Fitting dataset: sample_data/D2O_QENS_280K.nxs\n",
      "\tFit of observable 1 of 1 (time=0.0)\n",
      "Done.\n",
      "\n"
     ]
    }
   ],
   "source": [
    "from nPDyn.lmfit.lmfit_presets import pseudo_voigt, calibratedD2O\n",
    "\n",
    "qens.fitRes(model=pseudo_voigt(q, prefix='res_'))\n",
    "qens.D2OData.fit(model=calibratedD2O(q, 0.95, 280, prefix='D2O_'))"
   ]
  },
  {
   "cell_type": "markdown",
   "metadata": {},
   "source": [
    "## Build the model"
   ]
  },
  {
   "cell_type": "code",
   "execution_count": 5,
   "metadata": {},
   "outputs": [],
   "source": [
    "from nPDyn.lmfit.lmfit_presets import build_2D_model\n",
    "\n",
    "# let us start with the formatted text for the center-of-mass term.\n",
    "comText = (\"{beta} * {alpha} * {Ds} * {q}**2 / (np.pi * \"\n",
    "           \"(x**2 + ({Ds} * {q}**2)**2))\")\n",
    "\n",
    "# same for the internal dynamics term\n",
    "jumpDiffText = (\"{beta} * (1 - {alpha}) * \"\n",
    "                \"({Di} * {q}**2 / (1 + {Di} * {q}**2 * {tau})) / \"\n",
    "                \"(np.pi * (x**2 + ({Di} * {q}**2 / \"\n",
    "                \"(1 + {Di} * {q}**2 * {tau}))**2))\")\n",
    "\n",
    "# now we build the components\n",
    "comModel = build_2D_model(\n",
    "    q,\n",
    "    'com',\n",
    "    comText,\n",
    "    paramGlobals=['alpha', 'Ds'],\n",
    "    bounds={\n",
    "        'beta': (0., np.inf),\n",
    "        'alpha': (0, 1),\n",
    "        'Ds': (0.001, np.inf)},  # non-zero minimum to avoid infinite values\n",
    "    defVals={'alpha': 0.5,\n",
    "             'Ds': 5,\n",
    "             'beta': 1},\n",
    "    prefix='com_')\n",
    "\n",
    "jumpDiffModel = build_2D_model(\n",
    "    q,\n",
    "    'jumpDiff',\n",
    "    jumpDiffText,\n",
    "    paramGlobals=['alpha', 'Di', 'tau'],\n",
    "    bounds={\n",
    "        'beta': (0., np.inf),\n",
    "        'alpha': (0, 1),\n",
    "        'Di': (0.001, np.inf),  # non-zero minimum to avoid infinite values\n",
    "        'tau': (0., np.inf)},\n",
    "    defVals={'beta': 1,\n",
    "             'alpha': 0.5,\n",
    "             'Di': 30,\n",
    "             'tau': 10},\n",
    "    prefix='jd_')\n",
    "\n",
    "# and we assemble them\n",
    "model = comModel + jumpDiffModel\n",
    "\n",
    "# some parameters are the same for the two components, so we set them equals using 'expr' hint\n",
    "model.set_param_hint('com_alpha', expr='jd_alpha')\n",
    "for i in range(q.size):\n",
    "    model.set_param_hint('com_beta_%i' % i, expr='jd_beta_%i' % i)"
   ]
  },
  {
   "cell_type": "code",
   "execution_count": 6,
   "metadata": {},
   "outputs": [],
   "source": [
    "# now we add the component for the D2O signal\n",
    "from nPDyn.lmfit.lmfit_presets import hline\n",
    "\n",
    "scale = hline(q, prefix='bD2O_', bounds={'b': (0.0001, np.inf)})\n",
    "d2OModel = scale * qens.D2OData.model\n",
    "d2OModel.param_hints.update(qens.D2OData.getFixedOptParams(0))\n",
    "\n",
    "fitModel = model + d2OModel"
   ]
  },
  {
   "cell_type": "markdown",
   "metadata": {},
   "source": [
    "## Fit the data"
   ]
  },
  {
   "cell_type": "code",
   "execution_count": 21,
   "metadata": {},
   "outputs": [
    {
     "name": "stdout",
     "output_type": "stream",
     "text": [
      "Fitting dataset: sample_data/lys_part_01_QENS_before_280K.nxs\n",
      "\tFit of observable 1 of 1 (time=0.0)\r"
     ]
    },
    {
     "name": "stderr",
     "output_type": "stream",
     "text": [
      "/home/kpounot/.local/lib/python3.6/site-packages/nPDyn-1.0+17.g01781df.dirty-py3.6-linux-x86_64.egg/nPDyn/lmfit/lmfit_presets.py:3: RuntimeWarning: invalid value encountered in true_divide\n",
      "  \n",
      "/home/kpounot/.local/lib/python3.6/site-packages/nPDyn-1.0+17.g01781df.dirty-py3.6-linux-x86_64.egg/nPDyn/lmfit/lmfit_presets.py:4: RuntimeWarning: invalid value encountered in true_divide\n",
      "  These functions generate a `Model` class instance from\n",
      "/home/kpounot/.local/lib/python3.6/site-packages/nPDyn-1.0+17.g01781df.dirty-py3.6-linux-x86_64.egg/nPDyn/lmfit/lmfit_presets.py:5: RuntimeWarning: invalid value encountered in true_divide\n",
      "  the **lmfit** package [#]_.\n",
      "/home/kpounot/.local/lib/python3.6/site-packages/nPDyn-1.0+17.g01781df.dirty-py3.6-linux-x86_64.egg/nPDyn/lmfit/lmfit_presets.py:6: RuntimeWarning: invalid value encountered in true_divide\n",
      "  \n",
      "/home/kpounot/.local/lib/python3.6/site-packages/nPDyn-1.0+17.g01781df.dirty-py3.6-linux-x86_64.egg/nPDyn/lmfit/lmfit_presets.py:7: RuntimeWarning: invalid value encountered in true_divide\n",
      "  \n",
      "/home/kpounot/.local/lib/python3.6/site-packages/nPDyn-1.0+17.g01781df.dirty-py3.6-linux-x86_64.egg/nPDyn/lmfit/lmfit_presets.py:8: RuntimeWarning: invalid value encountered in true_divide\n",
      "  References\n",
      "/home/kpounot/.local/lib/python3.6/site-packages/nPDyn-1.0+17.g01781df.dirty-py3.6-linux-x86_64.egg/nPDyn/lmfit/lmfit_presets.py:9: RuntimeWarning: invalid value encountered in true_divide\n",
      "  ----------\n",
      "/home/kpounot/.local/lib/python3.6/site-packages/nPDyn-1.0+17.g01781df.dirty-py3.6-linux-x86_64.egg/nPDyn/lmfit/lmfit_presets.py:10: RuntimeWarning: invalid value encountered in true_divide\n",
      "  \n",
      "/home/kpounot/.local/lib/python3.6/site-packages/nPDyn-1.0+17.g01781df.dirty-py3.6-linux-x86_64.egg/nPDyn/lmfit/lmfit_presets.py:11: RuntimeWarning: invalid value encountered in true_divide\n",
      "  .. [#] https://lmfit.github.io/lmfit-py/\n",
      "/home/kpounot/.local/lib/python3.6/site-packages/nPDyn-1.0+17.g01781df.dirty-py3.6-linux-x86_64.egg/nPDyn/lmfit/lmfit_presets.py:12: RuntimeWarning: invalid value encountered in true_divide\n",
      "  \n",
      "/home/kpounot/.local/lib/python3.6/site-packages/nPDyn-1.0+17.g01781df.dirty-py3.6-linux-x86_64.egg/nPDyn/lmfit/lmfit_presets.py:13: RuntimeWarning: invalid value encountered in true_divide\n",
      "  \"\"\"\n",
      "/home/kpounot/.local/lib/python3.6/site-packages/nPDyn-1.0+17.g01781df.dirty-py3.6-linux-x86_64.egg/nPDyn/lmfit/lmfit_presets.py:14: RuntimeWarning: invalid value encountered in true_divide\n",
      "  \n",
      "/home/kpounot/.local/lib/python3.6/site-packages/nPDyn-1.0+17.g01781df.dirty-py3.6-linux-x86_64.egg/nPDyn/lmfit/lmfit_presets.py:15: RuntimeWarning: invalid value encountered in true_divide\n",
      "  from types import FunctionType, CodeType\n",
      "/home/kpounot/.local/lib/python3.6/site-packages/nPDyn-1.0+17.g01781df.dirty-py3.6-linux-x86_64.egg/nPDyn/lmfit/lmfit_presets.py:16: RuntimeWarning: invalid value encountered in true_divide\n",
      "  \n"
     ]
    },
    {
     "name": "stdout",
     "output_type": "stream",
     "text": [
      "basinhopping step 0: f 1.55595e-06\n",
      "basinhopping step 1: f 3.20144e-06 trial_f 3.20144e-06 accepted 1  lowest_f 1.55595e-06\n",
      "basinhopping step 2: f 5.97069e-06 trial_f 5.97069e-06 accepted 1  lowest_f 1.55595e-06\n",
      "basinhopping step 3: f 7.04166e-06 trial_f 7.04166e-06 accepted 1  lowest_f 1.55595e-06\n",
      "basinhopping step 4: f 8.19959e-06 trial_f 8.19959e-06 accepted 1  lowest_f 1.55595e-06\n",
      "basinhopping step 5: f 8.50517e-06 trial_f 8.50517e-06 accepted 1  lowest_f 1.55595e-06\n",
      "basinhopping step 6: f 6.98742e-06 trial_f 6.98742e-06 accepted 1  lowest_f 1.55595e-06\n",
      "basinhopping step 7: f 6.35464e-06 trial_f 6.35464e-06 accepted 1  lowest_f 1.55595e-06\n",
      "basinhopping step 8: f 1.12708e-05 trial_f 1.12708e-05 accepted 1  lowest_f 1.55595e-06\n",
      "basinhopping step 9: f 1.55953e-05 trial_f 1.55953e-05 accepted 1  lowest_f 1.55595e-06\n",
      "basinhopping step 10: f 1.12261e-05 trial_f 1.12261e-05 accepted 1  lowest_f 1.55595e-06\n",
      "basinhopping step 11: f 1.47672e-05 trial_f 1.47672e-05 accepted 1  lowest_f 1.55595e-06\n",
      "basinhopping step 12: f 1.09739e-05 trial_f 1.09739e-05 accepted 1  lowest_f 1.55595e-06\n",
      "basinhopping step 13: f 9.62826e-06 trial_f 9.62826e-06 accepted 1  lowest_f 1.55595e-06\n",
      "basinhopping step 14: f 1.54054e-05 trial_f 1.54054e-05 accepted 1  lowest_f 1.55595e-06\n",
      "basinhopping step 15: f 1.6889e-05 trial_f 1.6889e-05 accepted 1  lowest_f 1.55595e-06\n",
      "basinhopping step 16: f 1.36645e-05 trial_f 1.36645e-05 accepted 1  lowest_f 1.55595e-06\n",
      "basinhopping step 17: f 1.2997e-05 trial_f 1.2997e-05 accepted 1  lowest_f 1.55595e-06\n",
      "basinhopping step 18: f 1.10392e-05 trial_f 1.10392e-05 accepted 1  lowest_f 1.55595e-06\n",
      "basinhopping step 19: f 1.00319e-05 trial_f 1.00319e-05 accepted 1  lowest_f 1.55595e-06\n",
      "basinhopping step 20: f 9.71933e-06 trial_f 9.71933e-06 accepted 1  lowest_f 1.55595e-06\n",
      "basinhopping step 21: f 1.95741e-05 trial_f 1.95741e-05 accepted 1  lowest_f 1.55595e-06\n",
      "basinhopping step 22: f 1.42184e-05 trial_f 1.42184e-05 accepted 1  lowest_f 1.55595e-06\n",
      "basinhopping step 23: f 9.84798e-06 trial_f 9.84798e-06 accepted 1  lowest_f 1.55595e-06\n",
      "basinhopping step 24: f 1.14832e-05 trial_f 1.14832e-05 accepted 1  lowest_f 1.55595e-06\n",
      "basinhopping step 25: f 9.06624e-06 trial_f 9.06624e-06 accepted 1  lowest_f 1.55595e-06\n",
      "\n",
      "Done.\n",
      "\n"
     ]
    }
   ],
   "source": [
    "qens.fitData(model=fitModel, q=q, convolveRes=True)"
   ]
  },
  {
   "cell_type": "code",
   "execution_count": 22,
   "metadata": {},
   "outputs": [
    {
     "name": "stderr",
     "output_type": "stream",
     "text": [
      "/home/kpounot/.local/lib/python3.6/site-packages/nPDyn-1.0+17.g01781df.dirty-py3.6-linux-x86_64.egg/nPDyn/plot/qensPlot.py:195: UserWarning: Tight layout not applied. The left and right margins cannot be made large enough to accommodate all axes decorations. \n",
      "  self.canvas.draw()\n",
      "/home/kpounot/.local/lib/python3.6/site-packages/nPDyn-1.0+17.g01781df.dirty-py3.6-linux-x86_64.egg/nPDyn/plot/create_window.py:29: UserWarning: Tight layout not applied. The left and right margins cannot be made large enough to accommodate all axes decorations. \n",
      "  app.exec_()\n",
      "/home/kpounot/.local/lib/python3.6/site-packages/nPDyn-1.0+17.g01781df.dirty-py3.6-linux-x86_64.egg/nPDyn/plot/qensPlot.py:195: UserWarning: Tight layout not applied. The left and right margins cannot be made large enough to accommodate all axes decorations. \n",
      "  self.canvas.draw()\n",
      "/home/kpounot/.local/lib/python3.6/site-packages/nPDyn-1.0+17.g01781df.dirty-py3.6-linux-x86_64.egg/nPDyn/plot/qensPlot.py:312: UserWarning: Tight layout not applied. tight_layout cannot make axes width small enough to accommodate all axes decorations\n",
      "  self.canvas.draw()\n",
      "/home/kpounot/.local/lib/python3.6/site-packages/nPDyn-1.0+17.g01781df.dirty-py3.6-linux-x86_64.egg/nPDyn/plot/create_window.py:29: UserWarning: Tight layout not applied. tight_layout cannot make axes width small enough to accommodate all axes decorations\n",
      "  app.exec_()\n"
     ]
    }
   ],
   "source": [
    "qens.plotQENS()"
   ]
  },
  {
   "cell_type": "code",
   "execution_count": null,
   "metadata": {},
   "outputs": [],
   "source": []
  }
 ],
 "metadata": {
  "kernelspec": {
   "display_name": "Python 3",
   "language": "python",
   "name": "python3"
  },
  "language_info": {
   "codemirror_mode": {
    "name": "ipython",
    "version": 3
   },
   "file_extension": ".py",
   "mimetype": "text/x-python",
   "name": "python",
   "nbconvert_exporter": "python",
   "pygments_lexer": "ipython3",
   "version": "3.6.9"
  }
 },
 "nbformat": 4,
 "nbformat_minor": 4
}
